{
 "cells": [
  {
   "cell_type": "markdown",
   "id": "a7c033dd-eda4-4c5a-b543-beb8d36fb76e",
   "metadata": {},
   "source": [
    "### Laboratorio 4\n",
    "-  Diego Alberto Leiva\n",
    "-  Maria Marta Ramirez\n",
    "-  Gustavo Andres Gonzales\n",
    "-  José Pablo Orellana"
   ]
  },
  {
   "cell_type": "markdown",
   "id": "d266ef68-b091-4d4d-a006-a47db792858a",
   "metadata": {},
   "source": [
    "#### Responda a cada de las siguientes preguntas de forma clara y lo más completamente posible."
   ]
  },
  {
   "cell_type": "markdown",
   "id": "f2dbd031-01fa-4ba0-8877-7ea9e99a6542",
   "metadata": {},
   "source": [
    "##### 1. Explique con sus propias palabras, qué son los grafos computaciones y cuál es su importancia para el cálculo de gradientes en aplicaciones como backpropagation\n",
    "- En la informática un grafo computacional es una representación visual y estructural de operaciones matemáticas que se llevan a cabo en un programa o bien en un algoritmo, este grafo consta de nodos que pueden representar las operaciones y conexiones entre ellos que indican cómo es que fluye la información.\n",
    "- En el cálculo de gradientes en aplicaciones como backpropagation  los grafos computacionales son fundamentales, durante el proceso de entrenamiento de una red neuronal, se busca ajustar pesos de las conexiones entre las neuronas para así poder minimizar la diferencia entre las salidas que se predicen y las salidas que son reales. Los grafos computacionales entran en juego cuando se calculan gradientes, que básicamente son derivadas parciales de la función de pérdida con respecto a los pesos de la res, al representar las operaciones como nodos y las conexiones entre ellos como las dependencias entre variables, el grafo facilita el cálculo eficiente de gradientes a través de la regla de la cadena."
   ]
  },
  {
   "cell_type": "markdown",
   "id": "db912295-dd82-4e68-96c1-1b3525112c7f",
   "metadata": {},
   "source": [
    "##### 2. Detalle cuales son los componentes y pasos que conforman una red neuronal. Con esto en mente, ¿cómo mejoraría el perceptrón que hizo en el laboratorio pasado?\n",
    "- ##### Los componente de una red neuronal son los siguientes:\n",
    "  - *Neuronas o Nodos:* Estas son unidades funamentales que reciben entradas, aplican una transformación a esas entradas y producen una salida.\n",
    "  - *Capas:* Agrupan las neuronas o nodos o nveles, las capas se dividen en capa de entrada, capas ocultas y de salida, la de entrada recibe los datos, las ocultas realizan tranformaciones y las de salida producen resultados finales.\n",
    "  - *Pesos:* Cada conexión de nodos tiene un peso asociado que puede determinar la importancia de esa conexión computacional.\n",
    "  - *Función de Activación:* Esta define la salida de una neurona en función de su entrada ponderada.\n",
    "  - *Función de pérdida:* Mide la discrepancia entre las predicciones de la red y las salidas reales.\n",
    " \n",
    "- ##### Pasos que conforman una red neuronal:\n",
    "  - *Inicialización:* Asignación aleatoria de pesos a las conexiones entre neuronas.\n",
    "  - *Propagación hacia adelante:* Los datos fluyen desde la capa de entrada a través de las capas ocultas hasta la capa de salida, Cada neurona realiza una combinación lineal de sus entradas ponderadas por los pesos y aplica una función de activación.\n",
    "  - *Cálculo de pérdida:* Se compara la salida de la red con las salidas reales utilizando la función de pérdida.\n",
    "  - *Backpropagation:* Se calculan los gradientes de la función de pérdida con respecto a los pesos, y estos gradientes se utilizan para ajustar los pesos de la red mediante algoritmos de optimización.\n",
    " \n",
    "- ##### ¿Cómo mejoraría el perceptrón que hizo en el laboratorio pasado?\n",
    "  - Utilizaría algoritmos de optimización más avanzados, aplicaría técnicas de regularización como la disminución de peso o dropout para evitar el sobreajuste y ajustaría los hiperparámetros, como la tasa de aprendizaje y el tamaño de lote, para mejorar el rendimiento del modelo."
   ]
  },
  {
   "cell_type": "markdown",
   "id": "6c101853-fbc7-4da7-a6be-ceca4d313c9f",
   "metadata": {},
   "source": [
    "##### 3. Investigue y explique cómo se selecciona el valor K usando el método de la silueta para el algoritmo de K-Means. Explique las que lo componen así como las asumpciones.\n",
    "\n",
    "- El método de la silueta se utiliza básicamete para seleccionar el número óptimo de clusters (k) en el algoritmo de K-Means.\n",
    "  \n",
    " - Para sacar el valor por el método de la silueta se siguen los siguientes pasos:\n",
    "\n",
    "   - *Aplicar K-Means:* Se ejecuta el algoritmo de K-Means con diferentes valores de K.\n",
    "   - *Se alculan los centroides y se asignan clústereses:* Después se obtienen los centroides de los clústeres y se asigna cada punto de datos al clúster más cercano.\n",
    "   - *Se calculan las distancias a intraclúster (a):* Para cada punto en un clúster, se calcula la distancia promedio a todos los demás puntos en el mismo clúster.\n",
    "   - *Se calculan las distancias interclúster (b):* Para cada punto en un clúster, calcula la distancia promedio al clúster más cercano al que no pertenece.\n",
    "   - *Se calcula la silueta (s):* Para cada punto, la silueta se calcula como (b - a) / max(a, b). La silueta varía de -1 a 1, donde un valor alto indica que el objeto está bien emparejado con su propio clúster y mal emparejado con los clústeres vecinos.\n",
    "   - *Se calcula la silueta media para cada K:* Para cada valor de K, calcula el promedio de las siluetas de todos los puntos. La silueta media proporciona una medida global de la calidad de la agrupación para ese valor de K.\n",
    "   - *Se selecciona K:* El valor de K que maximiza la silueta media se considera el número óptimo de clústeres..e clústeres."
   ]
  },
  {
   "cell_type": "markdown",
   "id": "9e0b011b-218a-474f-8966-c29a9da23afc",
   "metadata": {},
   "source": [
    "##### 4. Investigue sobre Principal Component Analysis (PCA) y responda respecto a algoritmos como K-Means: \n",
    "##### - ¿Cómo podría ayudarle a mejorar la calidad de sus clusters cuando se usa K-Means?\n",
    "\n",
    "- Es una técnica de reducción de dimensionalidad que se utiliza para transformar datos originales en un nuevo conjunto de variables, llamadas componentes principales, que son ortogonales y capturan la mayor varianza en los datos.\n",
    "- El PCA reduce la dimensionalidad de los datos, mitigando la maldición de la dimensionalidad y mejorando la eficiencia de K-Means. Además, al eliminar correlaciones entre variables y centrarse en las direcciones principales, K-Means puede identificar patrones de agrupación más significativos. La eliminación de componentes con menor varianza actúa como un filtro de ruido, y la interpretación de clusters es más sencilla en el espacio de los componentes principales."
   ]
  },
  {
   "cell_type": "markdown",
   "id": "2923cb5b-1cb0-4a13-a34e-8ce7b0148674",
   "metadata": {},
   "source": [
    "##### Referencias\n",
    "\n",
    "- Echeverria, M. S., Vargas, R., Urzua, P., & Ferreira, R. (2008). DispoGrafo: Una nueva herramienta computacional para el análisis de relaciones semánticas en el lexico disponible. RLA. Revista de lingüística teórica y aplicada, 46(1), 81-91. https://doi.org/10.4067/S0718-48832008000100005\n",
    "- IBM Documentation. (2021, agosto 17). https://www.ibm.com/docs/es/spss-modeler/saas?topic=networks-neural-model\n",
    "- Principal Component Analysis (PCA) Explained | Built In. (s. f.). Recuperado 12 de febrero de 2024, de https://builtin.com/data-science/step-step-explanation-principal-component-analysis\n",
    "- Redes Neuronales de Grafos, ¿qué son? (2021, junio 30). CII.IA. https://www.ciiia.mx/noticiasciiia/redes-neuronales-de-grafos-qu-son"
   ]
  }
 ],
 "metadata": {
  "kernelspec": {
   "display_name": "Python 3 (ipykernel)",
   "language": "python",
   "name": "python3"
  },
  "language_info": {
   "codemirror_mode": {
    "name": "ipython",
    "version": 3
   },
   "file_extension": ".py",
   "mimetype": "text/x-python",
   "name": "python",
   "nbconvert_exporter": "python",
   "pygments_lexer": "ipython3",
   "version": "3.12.1"
  }
 },
 "nbformat": 4,
 "nbformat_minor": 5
}
