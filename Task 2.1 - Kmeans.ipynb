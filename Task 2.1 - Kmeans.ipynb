{
 "cells": [
  {
   "cell_type": "markdown",
   "metadata": {},
   "source": [
    "## Laboratorio 4 \n",
    "### Inteligencia Artificial\n",
    "##### Maria Marta Ramirez 21342\n",
    "##### Gustavo Gonzalez 21438\n",
    "##### Diego Leiva\n",
    "##### Jose Pablo Orellana \n",
    "---------------"
   ]
  },
  {
   "cell_type": "markdown",
   "metadata": {},
   "source": [
    "# Task 2.1"
   ]
  },
  {
   "cell_type": "code",
   "execution_count": null,
   "metadata": {},
   "outputs": [],
   "source": []
  }
 ],
 "metadata": {
  "language_info": {
   "name": "python"
  }
 },
 "nbformat": 4,
 "nbformat_minor": 2
}
