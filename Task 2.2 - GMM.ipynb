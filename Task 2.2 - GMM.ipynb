{
 "cells": [
  {
   "cell_type": "markdown",
   "metadata": {},
   "source": [
    "# Task 2.2\n",
    "## Gaussian Mixture Models"
   ]
  },
  {
   "cell_type": "markdown",
   "metadata": {},
   "source": [
    "### Exploración y preprocesamiento del dataset"
   ]
  },
  {
   "cell_type": "markdown",
   "metadata": {},
   "source": [
    "**Importar Librerías**"
   ]
  },
  {
   "cell_type": "code",
   "execution_count": 1,
   "metadata": {},
   "outputs": [],
   "source": [
    "import numpy as np\n",
    "import pandas as pd\n",
    "import matplotlib.pyplot as plt\n",
    "import seaborn as sns\n",
    "import warnings\n",
    "from datetime import datetime\n",
    "\n",
    "# Limpiar los warnings\n",
    "warnings.filterwarnings('ignore')"
   ]
  },
  {
   "cell_type": "markdown",
   "metadata": {},
   "source": [
    "**Cargar el dataset al entorno**"
   ]
  },
  {
   "cell_type": "code",
   "execution_count": 2,
   "metadata": {},
   "outputs": [],
   "source": [
    "df = pd.read_csv(\"bank_transactions.csv\", sep=\",\")\n",
    "# df = df.sample(n = 1000, random_state = 42)"
   ]
  },
  {
   "cell_type": "markdown",
   "metadata": {},
   "source": [
    "**Visualizar estructura e información general del dataset**"
   ]
  },
  {
   "cell_type": "code",
   "execution_count": 3,
   "metadata": {},
   "outputs": [
    {
     "name": "stdout",
     "output_type": "stream",
     "text": [
      "<class 'pandas.core.frame.DataFrame'>\n",
      "RangeIndex: 1048567 entries, 0 to 1048566\n",
      "Data columns (total 9 columns):\n",
      " #   Column                   Non-Null Count    Dtype  \n",
      "---  ------                   --------------    -----  \n",
      " 0   TransactionID            1048567 non-null  object \n",
      " 1   CustomerID               1048567 non-null  object \n",
      " 2   CustomerDOB              1045170 non-null  object \n",
      " 3   CustGender               1047467 non-null  object \n",
      " 4   CustLocation             1048416 non-null  object \n",
      " 5   CustAccountBalance       1046198 non-null  float64\n",
      " 6   TransactionDate          1048567 non-null  object \n",
      " 7   TransactionTime          1048567 non-null  int64  \n",
      " 8   TransactionAmount (INR)  1048567 non-null  float64\n",
      "dtypes: float64(2), int64(1), object(6)\n",
      "memory usage: 72.0+ MB\n"
     ]
    }
   ],
   "source": [
    "df.info()"
   ]
  },
  {
   "cell_type": "code",
   "execution_count": 4,
   "metadata": {},
   "outputs": [
    {
     "data": {
      "text/html": [
       "<div>\n",
       "<style scoped>\n",
       "    .dataframe tbody tr th:only-of-type {\n",
       "        vertical-align: middle;\n",
       "    }\n",
       "\n",
       "    .dataframe tbody tr th {\n",
       "        vertical-align: top;\n",
       "    }\n",
       "\n",
       "    .dataframe thead th {\n",
       "        text-align: right;\n",
       "    }\n",
       "</style>\n",
       "<table border=\"1\" class=\"dataframe\">\n",
       "  <thead>\n",
       "    <tr style=\"text-align: right;\">\n",
       "      <th></th>\n",
       "      <th>TransactionID</th>\n",
       "      <th>CustomerID</th>\n",
       "      <th>CustomerDOB</th>\n",
       "      <th>CustGender</th>\n",
       "      <th>CustLocation</th>\n",
       "      <th>CustAccountBalance</th>\n",
       "      <th>TransactionDate</th>\n",
       "      <th>TransactionTime</th>\n",
       "      <th>TransactionAmount (INR)</th>\n",
       "    </tr>\n",
       "  </thead>\n",
       "  <tbody>\n",
       "    <tr>\n",
       "      <th>0</th>\n",
       "      <td>T1</td>\n",
       "      <td>C5841053</td>\n",
       "      <td>10/1/94</td>\n",
       "      <td>F</td>\n",
       "      <td>JAMSHEDPUR</td>\n",
       "      <td>17819.05</td>\n",
       "      <td>2/8/16</td>\n",
       "      <td>143207</td>\n",
       "      <td>25.0</td>\n",
       "    </tr>\n",
       "    <tr>\n",
       "      <th>1</th>\n",
       "      <td>T2</td>\n",
       "      <td>C2142763</td>\n",
       "      <td>4/4/57</td>\n",
       "      <td>M</td>\n",
       "      <td>JHAJJAR</td>\n",
       "      <td>2270.69</td>\n",
       "      <td>2/8/16</td>\n",
       "      <td>141858</td>\n",
       "      <td>27999.0</td>\n",
       "    </tr>\n",
       "    <tr>\n",
       "      <th>2</th>\n",
       "      <td>T3</td>\n",
       "      <td>C4417068</td>\n",
       "      <td>26/11/96</td>\n",
       "      <td>F</td>\n",
       "      <td>MUMBAI</td>\n",
       "      <td>17874.44</td>\n",
       "      <td>2/8/16</td>\n",
       "      <td>142712</td>\n",
       "      <td>459.0</td>\n",
       "    </tr>\n",
       "    <tr>\n",
       "      <th>3</th>\n",
       "      <td>T4</td>\n",
       "      <td>C5342380</td>\n",
       "      <td>14/9/73</td>\n",
       "      <td>F</td>\n",
       "      <td>MUMBAI</td>\n",
       "      <td>866503.21</td>\n",
       "      <td>2/8/16</td>\n",
       "      <td>142714</td>\n",
       "      <td>2060.0</td>\n",
       "    </tr>\n",
       "    <tr>\n",
       "      <th>4</th>\n",
       "      <td>T5</td>\n",
       "      <td>C9031234</td>\n",
       "      <td>24/3/88</td>\n",
       "      <td>F</td>\n",
       "      <td>NAVI MUMBAI</td>\n",
       "      <td>6714.43</td>\n",
       "      <td>2/8/16</td>\n",
       "      <td>181156</td>\n",
       "      <td>1762.5</td>\n",
       "    </tr>\n",
       "  </tbody>\n",
       "</table>\n",
       "</div>"
      ],
      "text/plain": [
       "  TransactionID CustomerID CustomerDOB CustGender CustLocation  \\\n",
       "0            T1   C5841053     10/1/94          F   JAMSHEDPUR   \n",
       "1            T2   C2142763      4/4/57          M      JHAJJAR   \n",
       "2            T3   C4417068    26/11/96          F       MUMBAI   \n",
       "3            T4   C5342380     14/9/73          F       MUMBAI   \n",
       "4            T5   C9031234     24/3/88          F  NAVI MUMBAI   \n",
       "\n",
       "   CustAccountBalance TransactionDate  TransactionTime  \\\n",
       "0            17819.05          2/8/16           143207   \n",
       "1             2270.69          2/8/16           141858   \n",
       "2            17874.44          2/8/16           142712   \n",
       "3           866503.21          2/8/16           142714   \n",
       "4             6714.43          2/8/16           181156   \n",
       "\n",
       "   TransactionAmount (INR)  \n",
       "0                     25.0  \n",
       "1                  27999.0  \n",
       "2                    459.0  \n",
       "3                   2060.0  \n",
       "4                   1762.5  "
      ]
     },
     "execution_count": 4,
     "metadata": {},
     "output_type": "execute_result"
    }
   ],
   "source": [
    "df.head()"
   ]
  },
  {
   "cell_type": "markdown",
   "metadata": {},
   "source": [
    "**Verificar existencia de valores nulos**"
   ]
  },
  {
   "cell_type": "code",
   "execution_count": 5,
   "metadata": {},
   "outputs": [
    {
     "data": {
      "text/plain": [
       "TransactionID                 0\n",
       "CustomerID                    0\n",
       "CustomerDOB                3397\n",
       "CustGender                 1100\n",
       "CustLocation                151\n",
       "CustAccountBalance         2369\n",
       "TransactionDate               0\n",
       "TransactionTime               0\n",
       "TransactionAmount (INR)       0\n",
       "dtype: int64"
      ]
     },
     "execution_count": 5,
     "metadata": {},
     "output_type": "execute_result"
    }
   ],
   "source": [
    "df.isnull().sum()"
   ]
  },
  {
   "cell_type": "markdown",
   "metadata": {},
   "source": [
    "**Calcular impacto de nulos en el dataset**"
   ]
  },
  {
   "cell_type": "code",
   "execution_count": 6,
   "metadata": {},
   "outputs": [
    {
     "name": "stdout",
     "output_type": "stream",
     "text": [
      "Porcentaje total de valores nulos en el DataFrame: 0.07%\n"
     ]
    }
   ],
   "source": [
    "# Calcular el porcentaje de valores nulos en todo el DataFrame\n",
    "porcentaje_total_nulos = (df.isnull().sum().sum() / (df.shape[0] * df.shape[1])) * 100\n",
    "\n",
    "# Imprimir el porcentaje total de valores nulos\n",
    "print(f\"Porcentaje total de valores nulos en el DataFrame: {porcentaje_total_nulos:.2f}%\")"
   ]
  },
  {
   "cell_type": "markdown",
   "metadata": {},
   "source": [
    "Dado que la cantidad de samples con valores nulos equivale a menos del 1% del dataset, eliminarlos no tendrá impacto perceptible en el análisis."
   ]
  },
  {
   "cell_type": "code",
   "execution_count": 7,
   "metadata": {},
   "outputs": [
    {
     "data": {
      "text/plain": [
       "TransactionID              0\n",
       "CustomerID                 0\n",
       "CustomerDOB                0\n",
       "CustGender                 0\n",
       "CustLocation               0\n",
       "CustAccountBalance         0\n",
       "TransactionDate            0\n",
       "TransactionTime            0\n",
       "TransactionAmount (INR)    0\n",
       "dtype: int64"
      ]
     },
     "execution_count": 7,
     "metadata": {},
     "output_type": "execute_result"
    }
   ],
   "source": [
    "df.dropna(inplace=True)\n",
    "df.isnull().sum()"
   ]
  },
  {
   "cell_type": "markdown",
   "metadata": {},
   "source": [
    "**Procesamiento de atributos relacionados con el tiempo y/o la fecha**"
   ]
  },
  {
   "cell_type": "code",
   "execution_count": 8,
   "metadata": {},
   "outputs": [],
   "source": [
    "df['TransactionDate'] = pd.to_datetime(df['TransactionDate'])\n",
    "df['CustomerDOB'] = pd.to_datetime(df['CustomerDOB'])\n",
    "df['TransactionTime'] = df['TransactionTime'].apply(lambda x : datetime.utcfromtimestamp(int(x)).strftime('%H:%M:%S'))"
   ]
  },
  {
   "cell_type": "markdown",
   "metadata": {},
   "source": [
    "**Estadísticas descriptivas**"
   ]
  },
  {
   "cell_type": "code",
   "execution_count": 9,
   "metadata": {},
   "outputs": [
    {
     "data": {
      "text/html": [
       "<div>\n",
       "<style scoped>\n",
       "    .dataframe tbody tr th:only-of-type {\n",
       "        vertical-align: middle;\n",
       "    }\n",
       "\n",
       "    .dataframe tbody tr th {\n",
       "        vertical-align: top;\n",
       "    }\n",
       "\n",
       "    .dataframe thead th {\n",
       "        text-align: right;\n",
       "    }\n",
       "</style>\n",
       "<table border=\"1\" class=\"dataframe\">\n",
       "  <thead>\n",
       "    <tr style=\"text-align: right;\">\n",
       "      <th></th>\n",
       "      <th>CustomerDOB</th>\n",
       "      <th>CustAccountBalance</th>\n",
       "      <th>TransactionDate</th>\n",
       "      <th>TransactionAmount (INR)</th>\n",
       "    </tr>\n",
       "  </thead>\n",
       "  <tbody>\n",
       "    <tr>\n",
       "      <th>count</th>\n",
       "      <td>1041614</td>\n",
       "      <td>1.041614e+06</td>\n",
       "      <td>1041614</td>\n",
       "      <td>1.041614e+06</td>\n",
       "    </tr>\n",
       "    <tr>\n",
       "      <th>mean</th>\n",
       "      <td>1984-06-14 07:19:26.493537856</td>\n",
       "      <td>1.149986e+05</td>\n",
       "      <td>2016-07-25 19:23:05.559718400</td>\n",
       "      <td>1.566096e+03</td>\n",
       "    </tr>\n",
       "    <tr>\n",
       "      <th>min</th>\n",
       "      <td>1800-01-01 00:00:00</td>\n",
       "      <td>0.000000e+00</td>\n",
       "      <td>2016-01-08 00:00:00</td>\n",
       "      <td>0.000000e+00</td>\n",
       "    </tr>\n",
       "    <tr>\n",
       "      <th>25%</th>\n",
       "      <td>1983-08-15 00:00:00</td>\n",
       "      <td>4.728140e+03</td>\n",
       "      <td>2016-06-09 00:00:00</td>\n",
       "      <td>1.600000e+02</td>\n",
       "    </tr>\n",
       "    <tr>\n",
       "      <th>50%</th>\n",
       "      <td>1988-10-08 00:00:00</td>\n",
       "      <td>1.676852e+04</td>\n",
       "      <td>2016-08-20 00:00:00</td>\n",
       "      <td>4.575000e+02</td>\n",
       "    </tr>\n",
       "    <tr>\n",
       "      <th>75%</th>\n",
       "      <td>1992-06-26 00:00:00</td>\n",
       "      <td>5.742885e+04</td>\n",
       "      <td>2016-09-09 00:00:00</td>\n",
       "      <td>1.200000e+03</td>\n",
       "    </tr>\n",
       "    <tr>\n",
       "      <th>max</th>\n",
       "      <td>2073-12-31 00:00:00</td>\n",
       "      <td>1.150355e+08</td>\n",
       "      <td>2016-12-09 00:00:00</td>\n",
       "      <td>1.560035e+06</td>\n",
       "    </tr>\n",
       "    <tr>\n",
       "      <th>std</th>\n",
       "      <td>NaN</td>\n",
       "      <td>8.467609e+05</td>\n",
       "      <td>NaN</td>\n",
       "      <td>6.561464e+03</td>\n",
       "    </tr>\n",
       "  </tbody>\n",
       "</table>\n",
       "</div>"
      ],
      "text/plain": [
       "                         CustomerDOB  CustAccountBalance  \\\n",
       "count                        1041614        1.041614e+06   \n",
       "mean   1984-06-14 07:19:26.493537856        1.149986e+05   \n",
       "min              1800-01-01 00:00:00        0.000000e+00   \n",
       "25%              1983-08-15 00:00:00        4.728140e+03   \n",
       "50%              1988-10-08 00:00:00        1.676852e+04   \n",
       "75%              1992-06-26 00:00:00        5.742885e+04   \n",
       "max              2073-12-31 00:00:00        1.150355e+08   \n",
       "std                              NaN        8.467609e+05   \n",
       "\n",
       "                     TransactionDate  TransactionAmount (INR)  \n",
       "count                        1041614             1.041614e+06  \n",
       "mean   2016-07-25 19:23:05.559718400             1.566096e+03  \n",
       "min              2016-01-08 00:00:00             0.000000e+00  \n",
       "25%              2016-06-09 00:00:00             1.600000e+02  \n",
       "50%              2016-08-20 00:00:00             4.575000e+02  \n",
       "75%              2016-09-09 00:00:00             1.200000e+03  \n",
       "max              2016-12-09 00:00:00             1.560035e+06  \n",
       "std                              NaN             6.561464e+03  "
      ]
     },
     "execution_count": 9,
     "metadata": {},
     "output_type": "execute_result"
    }
   ],
   "source": [
    "df.describe()"
   ]
  },
  {
   "cell_type": "markdown",
   "metadata": {},
   "source": [
    "**Conteo de valores únicos en características categorías**"
   ]
  },
  {
   "cell_type": "markdown",
   "metadata": {},
   "source": [
    "Para característica de 'Género'"
   ]
  },
  {
   "cell_type": "code",
   "execution_count": 10,
   "metadata": {},
   "outputs": [
    {
     "data": {
      "text/plain": [
       "CustGender\n",
       "M    760978\n",
       "F    280635\n",
       "T         1\n",
       "Name: count, dtype: int64"
      ]
     },
     "execution_count": 10,
     "metadata": {},
     "output_type": "execute_result"
    }
   ],
   "source": [
    "df['CustGender'].value_counts()"
   ]
  },
  {
   "cell_type": "markdown",
   "metadata": {},
   "source": [
    "Se identifica un único registro con el valor 'T' en la variable de género, por lo tanto, se procede a su eliminación"
   ]
  },
  {
   "cell_type": "code",
   "execution_count": 11,
   "metadata": {},
   "outputs": [],
   "source": [
    "df.drop(df[df['CustGender']=='T'].index,inplace=True)"
   ]
  },
  {
   "cell_type": "markdown",
   "metadata": {},
   "source": [
    "Para característica de 'Ubicación'"
   ]
  },
  {
   "cell_type": "code",
   "execution_count": 12,
   "metadata": {},
   "outputs": [
    {
     "data": {
      "text/plain": [
       "CustLocation\n",
       "MUMBAI                            101997\n",
       "NEW DELHI                          84143\n",
       "BANGALORE                          81330\n",
       "GURGAON                            73594\n",
       "DELHI                              70549\n",
       "                                   ...  \n",
       "DISTRICT PURI                          1\n",
       "DHAKOLA                                1\n",
       "KANDESHWAR STATION NAVI MUMBAI         1\n",
       "HOSHIAR PUR                            1\n",
       "IMPERIA THANE WEST                     1\n",
       "Name: count, Length: 9275, dtype: int64"
      ]
     },
     "execution_count": 12,
     "metadata": {},
     "output_type": "execute_result"
    }
   ],
   "source": [
    "df['CustLocation'].value_counts()"
   ]
  },
  {
   "cell_type": "markdown",
   "metadata": {},
   "source": [
    "*Requiere de codificación"
   ]
  },
  {
   "cell_type": "code",
   "execution_count": 13,
   "metadata": {},
   "outputs": [
    {
     "data": {
      "text/plain": [
       "CustomerDOB\n",
       "1800-01-01    56291\n",
       "1989-01-01      809\n",
       "1990-01-01      784\n",
       "1991-06-08      698\n",
       "1991-01-01      665\n",
       "              ...  \n",
       "2051-02-12        1\n",
       "2052-03-20        1\n",
       "2047-09-26        1\n",
       "2041-04-10        1\n",
       "2044-10-24        1\n",
       "Name: count, Length: 17233, dtype: int64"
      ]
     },
     "execution_count": 13,
     "metadata": {},
     "output_type": "execute_result"
    }
   ],
   "source": [
    "df['CustomerDOB'].value_counts()"
   ]
  },
  {
   "cell_type": "code",
   "execution_count": 14,
   "metadata": {},
   "outputs": [
    {
     "name": "stdout",
     "output_type": "stream",
     "text": [
      "Porcentaje de registros a eliminar: 5.40%\n"
     ]
    }
   ],
   "source": [
    "# Calcular el número de registros a eliminar\n",
    "registros_a_eliminar = len(df[df['CustomerDOB'].dt.year == 1800])\n",
    "\n",
    "# Calcular el porcentaje de registros eliminados\n",
    "porcentaje_registros_eliminados = (registros_a_eliminar / len(df)) * 100\n",
    "\n",
    "# Imprimir el porcentaje\n",
    "print(f\"Porcentaje de registros a eliminar: {porcentaje_registros_eliminados:.2f}%\")"
   ]
  },
  {
   "cell_type": "markdown",
   "metadata": {},
   "source": [
    "Se detecta la existencia de múltiples fechas de nacimiento registradas en el año 1800, lo cual resulta inconsistente con el resto de datos. Dado que estas instancias representan solo el 5% del total de datos, se opta por su eliminación del conjunto de datos."
   ]
  },
  {
   "cell_type": "code",
   "execution_count": 15,
   "metadata": {},
   "outputs": [],
   "source": [
    "df = df.drop(df[df['CustomerDOB'] == '1/1/1800'].index, axis=0)"
   ]
  },
  {
   "cell_type": "markdown",
   "metadata": {},
   "source": [
    "**Corregir fechas de nacimiento mayores al año actual**"
   ]
  },
  {
   "cell_type": "code",
   "execution_count": 16,
   "metadata": {},
   "outputs": [],
   "source": [
    "df.loc[df.CustomerDOB.dt.year >= 2024, 'CustomerDOB'] = df.loc[df.CustomerDOB.dt.year >= 2024, 'CustomerDOB'] - pd.DateOffset(years=100)"
   ]
  },
  {
   "cell_type": "markdown",
   "metadata": {},
   "source": [
    "Se aplica un offset de 100 años a las fechas de nacimiento mayores al año actual"
   ]
  },
  {
   "cell_type": "markdown",
   "metadata": {},
   "source": [
    "**Convertir fecha de nacimiento a edad**"
   ]
  },
  {
   "cell_type": "code",
   "execution_count": 17,
   "metadata": {},
   "outputs": [],
   "source": [
    "df['CustomerAge'] = ((pd.to_datetime('today') - df['CustomerDOB']).dt.days / 365.25).round(0)"
   ]
  },
  {
   "cell_type": "markdown",
   "metadata": {},
   "source": [
    "**Ver el dataset actualizado**"
   ]
  },
  {
   "cell_type": "code",
   "execution_count": 18,
   "metadata": {},
   "outputs": [
    {
     "data": {
      "text/html": [
       "<div>\n",
       "<style scoped>\n",
       "    .dataframe tbody tr th:only-of-type {\n",
       "        vertical-align: middle;\n",
       "    }\n",
       "\n",
       "    .dataframe tbody tr th {\n",
       "        vertical-align: top;\n",
       "    }\n",
       "\n",
       "    .dataframe thead th {\n",
       "        text-align: right;\n",
       "    }\n",
       "</style>\n",
       "<table border=\"1\" class=\"dataframe\">\n",
       "  <thead>\n",
       "    <tr style=\"text-align: right;\">\n",
       "      <th></th>\n",
       "      <th>TransactionID</th>\n",
       "      <th>CustomerID</th>\n",
       "      <th>CustomerDOB</th>\n",
       "      <th>CustGender</th>\n",
       "      <th>CustLocation</th>\n",
       "      <th>CustAccountBalance</th>\n",
       "      <th>TransactionDate</th>\n",
       "      <th>TransactionTime</th>\n",
       "      <th>TransactionAmount (INR)</th>\n",
       "      <th>CustomerAge</th>\n",
       "    </tr>\n",
       "  </thead>\n",
       "  <tbody>\n",
       "    <tr>\n",
       "      <th>0</th>\n",
       "      <td>T1</td>\n",
       "      <td>C5841053</td>\n",
       "      <td>1994-10-01</td>\n",
       "      <td>F</td>\n",
       "      <td>JAMSHEDPUR</td>\n",
       "      <td>17819.05</td>\n",
       "      <td>2016-02-08</td>\n",
       "      <td>15:46:47</td>\n",
       "      <td>25.0</td>\n",
       "      <td>29.0</td>\n",
       "    </tr>\n",
       "    <tr>\n",
       "      <th>1</th>\n",
       "      <td>T2</td>\n",
       "      <td>C2142763</td>\n",
       "      <td>1957-04-04</td>\n",
       "      <td>M</td>\n",
       "      <td>JHAJJAR</td>\n",
       "      <td>2270.69</td>\n",
       "      <td>2016-02-08</td>\n",
       "      <td>15:24:18</td>\n",
       "      <td>27999.0</td>\n",
       "      <td>67.0</td>\n",
       "    </tr>\n",
       "    <tr>\n",
       "      <th>2</th>\n",
       "      <td>T3</td>\n",
       "      <td>C4417068</td>\n",
       "      <td>1996-11-26</td>\n",
       "      <td>F</td>\n",
       "      <td>MUMBAI</td>\n",
       "      <td>17874.44</td>\n",
       "      <td>2016-02-08</td>\n",
       "      <td>15:38:32</td>\n",
       "      <td>459.0</td>\n",
       "      <td>27.0</td>\n",
       "    </tr>\n",
       "    <tr>\n",
       "      <th>3</th>\n",
       "      <td>T4</td>\n",
       "      <td>C5342380</td>\n",
       "      <td>1973-09-14</td>\n",
       "      <td>F</td>\n",
       "      <td>MUMBAI</td>\n",
       "      <td>866503.21</td>\n",
       "      <td>2016-02-08</td>\n",
       "      <td>15:38:34</td>\n",
       "      <td>2060.0</td>\n",
       "      <td>50.0</td>\n",
       "    </tr>\n",
       "    <tr>\n",
       "      <th>4</th>\n",
       "      <td>T5</td>\n",
       "      <td>C9031234</td>\n",
       "      <td>1988-03-24</td>\n",
       "      <td>F</td>\n",
       "      <td>NAVI MUMBAI</td>\n",
       "      <td>6714.43</td>\n",
       "      <td>2016-02-08</td>\n",
       "      <td>02:19:16</td>\n",
       "      <td>1762.5</td>\n",
       "      <td>36.0</td>\n",
       "    </tr>\n",
       "    <tr>\n",
       "      <th>...</th>\n",
       "      <td>...</td>\n",
       "      <td>...</td>\n",
       "      <td>...</td>\n",
       "      <td>...</td>\n",
       "      <td>...</td>\n",
       "      <td>...</td>\n",
       "      <td>...</td>\n",
       "      <td>...</td>\n",
       "      <td>...</td>\n",
       "      <td>...</td>\n",
       "    </tr>\n",
       "    <tr>\n",
       "      <th>1048562</th>\n",
       "      <td>T1048563</td>\n",
       "      <td>C8020229</td>\n",
       "      <td>1990-08-04</td>\n",
       "      <td>M</td>\n",
       "      <td>NEW DELHI</td>\n",
       "      <td>7635.19</td>\n",
       "      <td>2016-09-18</td>\n",
       "      <td>03:20:24</td>\n",
       "      <td>799.0</td>\n",
       "      <td>34.0</td>\n",
       "    </tr>\n",
       "    <tr>\n",
       "      <th>1048563</th>\n",
       "      <td>T1048564</td>\n",
       "      <td>C6459278</td>\n",
       "      <td>1992-02-20</td>\n",
       "      <td>M</td>\n",
       "      <td>NASHIK</td>\n",
       "      <td>27311.42</td>\n",
       "      <td>2016-09-18</td>\n",
       "      <td>03:02:14</td>\n",
       "      <td>460.0</td>\n",
       "      <td>32.0</td>\n",
       "    </tr>\n",
       "    <tr>\n",
       "      <th>1048564</th>\n",
       "      <td>T1048565</td>\n",
       "      <td>C6412354</td>\n",
       "      <td>1989-05-18</td>\n",
       "      <td>M</td>\n",
       "      <td>HYDERABAD</td>\n",
       "      <td>221757.06</td>\n",
       "      <td>2016-09-18</td>\n",
       "      <td>02:55:13</td>\n",
       "      <td>770.0</td>\n",
       "      <td>35.0</td>\n",
       "    </tr>\n",
       "    <tr>\n",
       "      <th>1048565</th>\n",
       "      <td>T1048566</td>\n",
       "      <td>C6420483</td>\n",
       "      <td>1978-08-30</td>\n",
       "      <td>M</td>\n",
       "      <td>VISAKHAPATNAM</td>\n",
       "      <td>10117.87</td>\n",
       "      <td>2016-09-18</td>\n",
       "      <td>03:18:26</td>\n",
       "      <td>1000.0</td>\n",
       "      <td>45.0</td>\n",
       "    </tr>\n",
       "    <tr>\n",
       "      <th>1048566</th>\n",
       "      <td>T1048567</td>\n",
       "      <td>C8337524</td>\n",
       "      <td>1984-05-03</td>\n",
       "      <td>M</td>\n",
       "      <td>PUNE</td>\n",
       "      <td>75734.42</td>\n",
       "      <td>2016-09-18</td>\n",
       "      <td>02:20:22</td>\n",
       "      <td>1166.0</td>\n",
       "      <td>40.0</td>\n",
       "    </tr>\n",
       "  </tbody>\n",
       "</table>\n",
       "<p>985322 rows × 10 columns</p>\n",
       "</div>"
      ],
      "text/plain": [
       "        TransactionID CustomerID CustomerDOB CustGender   CustLocation  \\\n",
       "0                  T1   C5841053  1994-10-01          F     JAMSHEDPUR   \n",
       "1                  T2   C2142763  1957-04-04          M        JHAJJAR   \n",
       "2                  T3   C4417068  1996-11-26          F         MUMBAI   \n",
       "3                  T4   C5342380  1973-09-14          F         MUMBAI   \n",
       "4                  T5   C9031234  1988-03-24          F    NAVI MUMBAI   \n",
       "...               ...        ...         ...        ...            ...   \n",
       "1048562      T1048563   C8020229  1990-08-04          M      NEW DELHI   \n",
       "1048563      T1048564   C6459278  1992-02-20          M         NASHIK   \n",
       "1048564      T1048565   C6412354  1989-05-18          M      HYDERABAD   \n",
       "1048565      T1048566   C6420483  1978-08-30          M  VISAKHAPATNAM   \n",
       "1048566      T1048567   C8337524  1984-05-03          M           PUNE   \n",
       "\n",
       "         CustAccountBalance TransactionDate TransactionTime  \\\n",
       "0                  17819.05      2016-02-08        15:46:47   \n",
       "1                   2270.69      2016-02-08        15:24:18   \n",
       "2                  17874.44      2016-02-08        15:38:32   \n",
       "3                 866503.21      2016-02-08        15:38:34   \n",
       "4                   6714.43      2016-02-08        02:19:16   \n",
       "...                     ...             ...             ...   \n",
       "1048562             7635.19      2016-09-18        03:20:24   \n",
       "1048563            27311.42      2016-09-18        03:02:14   \n",
       "1048564           221757.06      2016-09-18        02:55:13   \n",
       "1048565            10117.87      2016-09-18        03:18:26   \n",
       "1048566            75734.42      2016-09-18        02:20:22   \n",
       "\n",
       "         TransactionAmount (INR)  CustomerAge  \n",
       "0                           25.0         29.0  \n",
       "1                        27999.0         67.0  \n",
       "2                          459.0         27.0  \n",
       "3                         2060.0         50.0  \n",
       "4                         1762.5         36.0  \n",
       "...                          ...          ...  \n",
       "1048562                    799.0         34.0  \n",
       "1048563                    460.0         32.0  \n",
       "1048564                    770.0         35.0  \n",
       "1048565                   1000.0         45.0  \n",
       "1048566                   1166.0         40.0  \n",
       "\n",
       "[985322 rows x 10 columns]"
      ]
     },
     "execution_count": 18,
     "metadata": {},
     "output_type": "execute_result"
    }
   ],
   "source": [
    "df"
   ]
  },
  {
   "cell_type": "markdown",
   "metadata": {},
   "source": [
    "**Gráficas de distribución**"
   ]
  },
  {
   "cell_type": "code",
   "execution_count": 19,
   "metadata": {},
   "outputs": [
    {
     "data": {
      "image/png": "[encoded data removed]",
      "text/plain": [
       "<Figure size 600x400 with 1 Axes>"
      ]
     },
     "metadata": {},
     "output_type": "display_data"
    }
   ],
   "source": [
    "# 1. Distribución de clientes por género\n",
    "plt.figure(figsize=(6, 4))\n",
    "sns.countplot(x='CustGender', data = df, palette='pastel')\n",
    "plt.title('Distribución de clientes por género')\n",
    "plt.xlabel('Género')\n",
    "plt.ylabel('Conteo')\n",
    "plt.show()"
   ]
  },
  {
   "cell_type": "code",
   "execution_count": 20,
   "metadata": {},
   "outputs": [
    {
     "data": {
      "image/png": "[encoded data removed]",
      "text/plain": [
       "<Figure size 1000x600 with 1 Axes>"
      ]
     },
     "metadata": {},
     "output_type": "display_data"
    }
   ],
   "source": [
    "# 2. Distribución de edad de clientes\n",
    "plt.figure(figsize=(10, 6))\n",
    "sns.histplot(df['CustomerAge'], bins=30, kde=True, color='skyblue')\n",
    "plt.title('Distribución de edad de clientes')\n",
    "plt.xlabel('Edad')\n",
    "plt.ylabel('Cantidad de Clientes')\n",
    "plt.show()"
   ]
  },
  {
   "cell_type": "code",
   "execution_count": 21,
   "metadata": {},
   "outputs": [
    {
     "data": {
      "image/png": "[encoded data removed]",
      "text/plain": [
       "<Figure size 1200x600 with 1 Axes>"
      ]
     },
     "metadata": {},
     "output_type": "display_data"
    }
   ],
   "source": [
    "# 3. TOP 10 Ubicaciónes con mayor cantidad de clientes\n",
    "location_counts = df['CustLocation'].value_counts().nlargest(10)\n",
    "plt.figure(figsize=(12, 6))\n",
    "sns.barplot(x=location_counts.index, y=location_counts.values, palette='viridis')\n",
    "plt.title('TOP 10 Ubicaciónes con mayor cantidad de clientes')\n",
    "plt.xlabel('Ubicación')\n",
    "plt.ylabel('Cantidad de clientes')\n",
    "plt.xticks(rotation=45, ha='right')\n",
    "plt.show()"
   ]
  },
  {
   "cell_type": "markdown",
   "metadata": {},
   "source": [
    "**Eliminación de transacciones con monto de 0**"
   ]
  },
  {
   "cell_type": "code",
   "execution_count": 22,
   "metadata": {},
   "outputs": [],
   "source": [
    "# Conteo de registros con un monto de 0 en la transacción\n",
    "df[df['TransactionAmount (INR)'] == 0].count()\n",
    "\n",
    "# Eliminar los registros encontrados\n",
    "df = df.drop(df[df['TransactionAmount (INR)'] == 0].index,axis = 0)"
   ]
  },
  {
   "cell_type": "markdown",
   "metadata": {},
   "source": [
    "La eliminación de transacciones de 0 rupias ayuda a evitar distorsiones en el análisis de los datos, al eliminar registros improbables o erróneos."
   ]
  },
  {
   "cell_type": "markdown",
   "metadata": {},
   "source": [
    "**Manejo de valores atípicos**"
   ]
  },
  {
   "cell_type": "code",
   "execution_count": 23,
   "metadata": {},
   "outputs": [],
   "source": [
    "# Manejo de valores atípicos utilizando el método del rango intercuartílico (IQR)\n",
    "def handle_outliers_iqr(data, column):\n",
    "    Q1 = data[column].quantile(0.25)  # Primer cuartil\n",
    "    Q3 = data[column].quantile(0.75)  # Tercer cuartil\n",
    "    IQR = Q3 - Q1  # Rango intercuartílico\n",
    "    lower_bound = Q1 - 1.5 * IQR  # Límite inferior\n",
    "    upper_bound = Q3 + 1.5 * IQR  # Límite superior\n",
    "    data[column] = data[column].apply(lambda x: upper_bound if x > upper_bound else lower_bound if x < lower_bound else x)\n",
    "    return data\n",
    "\n",
    "# Manejo de valores atípicos para las columnas CustAccountBalance y TransactionAmount (INR)\n",
    "df = handle_outliers_iqr(df, 'CustAccountBalance')\n",
    "df = handle_outliers_iqr(df, 'TransactionAmount (INR)')"
   ]
  },
  {
   "cell_type": "markdown",
   "metadata": {},
   "source": [
    "Manejar valores atípicos es crucial para mantener la precisión de los análisis y modelos, ya que estos valores pueden distorsionar los resultados."
   ]
  },
  {
   "cell_type": "markdown",
   "metadata": {},
   "source": [
    "**Codificación a las características pertinentes**"
   ]
  },
  {
   "cell_type": "code",
   "execution_count": 24,
   "metadata": {},
   "outputs": [
    {
     "data": {
      "text/html": [
       "<div>\n",
       "<style scoped>\n",
       "    .dataframe tbody tr th:only-of-type {\n",
       "        vertical-align: middle;\n",
       "    }\n",
       "\n",
       "    .dataframe tbody tr th {\n",
       "        vertical-align: top;\n",
       "    }\n",
       "\n",
       "    .dataframe thead th {\n",
       "        text-align: right;\n",
       "    }\n",
       "</style>\n",
       "<table border=\"1\" class=\"dataframe\">\n",
       "  <thead>\n",
       "    <tr style=\"text-align: right;\">\n",
       "      <th></th>\n",
       "      <th>TransactionID</th>\n",
       "      <th>CustomerID</th>\n",
       "      <th>CustomerDOB</th>\n",
       "      <th>CustGender</th>\n",
       "      <th>CustLocation</th>\n",
       "      <th>CustAccountBalance</th>\n",
       "      <th>TransactionDate</th>\n",
       "      <th>TransactionTime</th>\n",
       "      <th>TransactionAmount (INR)</th>\n",
       "      <th>CustomerAge</th>\n",
       "    </tr>\n",
       "  </thead>\n",
       "  <tbody>\n",
       "    <tr>\n",
       "      <th>0</th>\n",
       "      <td>T1</td>\n",
       "      <td>C5841053</td>\n",
       "      <td>1994-10-01</td>\n",
       "      <td>0</td>\n",
       "      <td>3116</td>\n",
       "      <td>17819.050</td>\n",
       "      <td>2016-02-08</td>\n",
       "      <td>15:46:47</td>\n",
       "      <td>25.00000</td>\n",
       "      <td>29.0</td>\n",
       "    </tr>\n",
       "    <tr>\n",
       "      <th>1</th>\n",
       "      <td>T2</td>\n",
       "      <td>C2142763</td>\n",
       "      <td>1957-04-04</td>\n",
       "      <td>1</td>\n",
       "      <td>3173</td>\n",
       "      <td>2270.690</td>\n",
       "      <td>2016-02-08</td>\n",
       "      <td>15:24:18</td>\n",
       "      <td>2588.46125</td>\n",
       "      <td>67.0</td>\n",
       "    </tr>\n",
       "    <tr>\n",
       "      <th>2</th>\n",
       "      <td>T3</td>\n",
       "      <td>C4417068</td>\n",
       "      <td>1996-11-26</td>\n",
       "      <td>0</td>\n",
       "      <td>4623</td>\n",
       "      <td>17874.440</td>\n",
       "      <td>2016-02-08</td>\n",
       "      <td>15:38:32</td>\n",
       "      <td>459.00000</td>\n",
       "      <td>27.0</td>\n",
       "    </tr>\n",
       "    <tr>\n",
       "      <th>3</th>\n",
       "      <td>T4</td>\n",
       "      <td>C5342380</td>\n",
       "      <td>1973-09-14</td>\n",
       "      <td>0</td>\n",
       "      <td>4623</td>\n",
       "      <td>127393.105</td>\n",
       "      <td>2016-02-08</td>\n",
       "      <td>15:38:34</td>\n",
       "      <td>2060.00000</td>\n",
       "      <td>50.0</td>\n",
       "    </tr>\n",
       "    <tr>\n",
       "      <th>4</th>\n",
       "      <td>T5</td>\n",
       "      <td>C9031234</td>\n",
       "      <td>1988-03-24</td>\n",
       "      <td>0</td>\n",
       "      <td>4963</td>\n",
       "      <td>6714.430</td>\n",
       "      <td>2016-02-08</td>\n",
       "      <td>02:19:16</td>\n",
       "      <td>1762.50000</td>\n",
       "      <td>36.0</td>\n",
       "    </tr>\n",
       "  </tbody>\n",
       "</table>\n",
       "</div>"
      ],
      "text/plain": [
       "  TransactionID CustomerID CustomerDOB  CustGender  CustLocation  \\\n",
       "0            T1   C5841053  1994-10-01           0          3116   \n",
       "1            T2   C2142763  1957-04-04           1          3173   \n",
       "2            T3   C4417068  1996-11-26           0          4623   \n",
       "3            T4   C5342380  1973-09-14           0          4623   \n",
       "4            T5   C9031234  1988-03-24           0          4963   \n",
       "\n",
       "   CustAccountBalance TransactionDate TransactionTime  \\\n",
       "0           17819.050      2016-02-08        15:46:47   \n",
       "1            2270.690      2016-02-08        15:24:18   \n",
       "2           17874.440      2016-02-08        15:38:32   \n",
       "3          127393.105      2016-02-08        15:38:34   \n",
       "4            6714.430      2016-02-08        02:19:16   \n",
       "\n",
       "   TransactionAmount (INR)  CustomerAge  \n",
       "0                 25.00000         29.0  \n",
       "1               2588.46125         67.0  \n",
       "2                459.00000         27.0  \n",
       "3               2060.00000         50.0  \n",
       "4               1762.50000         36.0  "
      ]
     },
     "execution_count": 24,
     "metadata": {},
     "output_type": "execute_result"
    }
   ],
   "source": [
    "from sklearn import preprocessing\n",
    "le = preprocessing.LabelEncoder()\n",
    "\n",
    "# Codificación para las columnas 'CustGender' y 'CustLocation'\n",
    "df['CustGender']= le.fit_transform(df['CustGender'])\n",
    "df['CustLocation']= le.fit_transform(df['CustLocation'])\n",
    "\n",
    "df.head()"
   ]
  },
  {
   "cell_type": "markdown",
   "metadata": {},
   "source": [
    "**Selección de características relevantes**"
   ]
  },
  {
   "cell_type": "code",
   "execution_count": 25,
   "metadata": {},
   "outputs": [],
   "source": [
    "features = df.drop(['TransactionID',\n",
    "                    'CustomerID',\n",
    "                    'CustomerDOB',\n",
    "                    'TransactionDate',\n",
    "                    'TransactionTime'],\n",
    "                    axis=1)"
   ]
  },
  {
   "cell_type": "markdown",
   "metadata": {},
   "source": [
    "Se han seleccionado las siguientes caracteristicas:\n",
    "- CustomerAge: Edad del cliente.\n",
    "- CustGender: Género del cliente.\n",
    "- CustLocation: Ubicación del cliente.\n",
    "- CustAccountBalance: Saldo de la cuenta del cliente.\n",
    "- TransactionAmount (INR): Monto de la transacción en rupias indias.\n",
    "\n",
    "Estas características han sido seleccionadas debido a su relevancia potencial para el análisis de segmentación de clientes. La edad, género, ubicación, saldo de la cuenta y monto de las transacciones son variables que pueden ayudar a identificar patrones y segmentar clientes de manera efectiva. \n",
    "\n",
    "Las otras características fueron eliminadas porque no aportan información relevante sobre las similitudes o diferencias entre las muestras."
   ]
  },
  {
   "cell_type": "markdown",
   "metadata": {},
   "source": [
    "**Estandarización de las características**"
   ]
  },
  {
   "cell_type": "code",
   "execution_count": 26,
   "metadata": {},
   "outputs": [
    {
     "data": {
      "text/html": [
       "<div>\n",
       "<style scoped>\n",
       "    .dataframe tbody tr th:only-of-type {\n",
       "        vertical-align: middle;\n",
       "    }\n",
       "\n",
       "    .dataframe tbody tr th {\n",
       "        vertical-align: top;\n",
       "    }\n",
       "\n",
       "    .dataframe thead th {\n",
       "        text-align: right;\n",
       "    }\n",
       "</style>\n",
       "<table border=\"1\" class=\"dataframe\">\n",
       "  <thead>\n",
       "    <tr style=\"text-align: right;\">\n",
       "      <th></th>\n",
       "      <th>CustGender</th>\n",
       "      <th>CustLocation</th>\n",
       "      <th>CustAccountBalance</th>\n",
       "      <th>TransactionAmount (INR)</th>\n",
       "      <th>CustomerAge</th>\n",
       "    </tr>\n",
       "  </thead>\n",
       "  <tbody>\n",
       "    <tr>\n",
       "      <th>0</th>\n",
       "      <td>-1.615620</td>\n",
       "      <td>-0.229982</td>\n",
       "      <td>-0.434486</td>\n",
       "      <td>-0.908036</td>\n",
       "      <td>-1.102073</td>\n",
       "    </tr>\n",
       "    <tr>\n",
       "      <th>1</th>\n",
       "      <td>0.618957</td>\n",
       "      <td>-0.202620</td>\n",
       "      <td>-0.789003</td>\n",
       "      <td>2.149892</td>\n",
       "      <td>3.234776</td>\n",
       "    </tr>\n",
       "    <tr>\n",
       "      <th>2</th>\n",
       "      <td>-1.615620</td>\n",
       "      <td>0.493427</td>\n",
       "      <td>-0.433223</td>\n",
       "      <td>-0.390321</td>\n",
       "      <td>-1.330329</td>\n",
       "    </tr>\n",
       "    <tr>\n",
       "      <th>3</th>\n",
       "      <td>-1.615620</td>\n",
       "      <td>0.493427</td>\n",
       "      <td>2.063905</td>\n",
       "      <td>1.519496</td>\n",
       "      <td>1.294607</td>\n",
       "    </tr>\n",
       "    <tr>\n",
       "      <th>4</th>\n",
       "      <td>-1.615620</td>\n",
       "      <td>0.656638</td>\n",
       "      <td>-0.687681</td>\n",
       "      <td>1.164611</td>\n",
       "      <td>-0.303180</td>\n",
       "    </tr>\n",
       "    <tr>\n",
       "      <th>...</th>\n",
       "      <td>...</td>\n",
       "      <td>...</td>\n",
       "      <td>...</td>\n",
       "      <td>...</td>\n",
       "      <td>...</td>\n",
       "    </tr>\n",
       "    <tr>\n",
       "      <th>984609</th>\n",
       "      <td>0.618957</td>\n",
       "      <td>0.705121</td>\n",
       "      <td>-0.666687</td>\n",
       "      <td>0.015261</td>\n",
       "      <td>-0.531435</td>\n",
       "    </tr>\n",
       "    <tr>\n",
       "      <th>984610</th>\n",
       "      <td>0.618957</td>\n",
       "      <td>0.646077</td>\n",
       "      <td>-0.218051</td>\n",
       "      <td>-0.389129</td>\n",
       "      <td>-0.759690</td>\n",
       "    </tr>\n",
       "    <tr>\n",
       "      <th>984611</th>\n",
       "      <td>0.618957</td>\n",
       "      <td>-0.308227</td>\n",
       "      <td>2.063905</td>\n",
       "      <td>-0.019333</td>\n",
       "      <td>-0.417308</td>\n",
       "    </tr>\n",
       "    <tr>\n",
       "      <th>984612</th>\n",
       "      <td>0.618957</td>\n",
       "      <td>2.102974</td>\n",
       "      <td>-0.610080</td>\n",
       "      <td>0.255032</td>\n",
       "      <td>0.723969</td>\n",
       "    </tr>\n",
       "    <tr>\n",
       "      <th>984613</th>\n",
       "      <td>0.618957</td>\n",
       "      <td>1.077626</td>\n",
       "      <td>0.886039</td>\n",
       "      <td>0.453052</td>\n",
       "      <td>0.153330</td>\n",
       "    </tr>\n",
       "  </tbody>\n",
       "</table>\n",
       "<p>984614 rows × 5 columns</p>\n",
       "</div>"
      ],
      "text/plain": [
       "        CustGender  CustLocation  CustAccountBalance  TransactionAmount (INR)  \\\n",
       "0        -1.615620     -0.229982           -0.434486                -0.908036   \n",
       "1         0.618957     -0.202620           -0.789003                 2.149892   \n",
       "2        -1.615620      0.493427           -0.433223                -0.390321   \n",
       "3        -1.615620      0.493427            2.063905                 1.519496   \n",
       "4        -1.615620      0.656638           -0.687681                 1.164611   \n",
       "...            ...           ...                 ...                      ...   \n",
       "984609    0.618957      0.705121           -0.666687                 0.015261   \n",
       "984610    0.618957      0.646077           -0.218051                -0.389129   \n",
       "984611    0.618957     -0.308227            2.063905                -0.019333   \n",
       "984612    0.618957      2.102974           -0.610080                 0.255032   \n",
       "984613    0.618957      1.077626            0.886039                 0.453052   \n",
       "\n",
       "        CustomerAge  \n",
       "0         -1.102073  \n",
       "1          3.234776  \n",
       "2         -1.330329  \n",
       "3          1.294607  \n",
       "4         -0.303180  \n",
       "...             ...  \n",
       "984609    -0.531435  \n",
       "984610    -0.759690  \n",
       "984611    -0.417308  \n",
       "984612     0.723969  \n",
       "984613     0.153330  \n",
       "\n",
       "[984614 rows x 5 columns]"
      ]
     },
     "execution_count": 26,
     "metadata": {},
     "output_type": "execute_result"
    }
   ],
   "source": [
    "from sklearn.preprocessing import StandardScaler\n",
    "\n",
    "# Columnas a escalar\n",
    "columns_names=['CustGender','CustLocation','CustAccountBalance','TransactionAmount (INR)','CustomerAge']\n",
    "\n",
    "# Inicializar el escalador\n",
    "scaler = StandardScaler()\n",
    "\n",
    "# Escalar las características\n",
    "features = scaler.fit_transform(features)\n",
    "features = pd.DataFrame(features,columns=columns_names)\n",
    "\n",
    "# Mostrar el dataset escalado\n",
    "features"
   ]
  }
 ],
 "metadata": {
  "kernelspec": {
   "display_name": "Python 3",
   "language": "python",
   "name": "python3"
  },
  "language_info": {
   "codemirror_mode": {
    "name": "ipython",
    "version": 3
   },
   "file_extension": ".py",
   "mimetype": "text/x-python",
   "name": "python",
   "nbconvert_exporter": "python",
   "pygments_lexer": "ipython3",
   "version": "3.11.6"
  }
 },
 "nbformat": 4,
 "nbformat_minor": 2
}
