{
 "cells": [
  {
   "cell_type": "markdown",
   "metadata": {},
   "source": [
    "# Task 2.2\n",
    "## Gaussian Mixture Models"
   ]
  },
  {
   "cell_type": "markdown",
   "metadata": {},
   "source": [
    "### Exploracion y preprocesamiento del dataset"
   ]
  },
  {
   "cell_type": "markdown",
   "metadata": {},
   "source": [
    "**Importar librerias necesarias**"
   ]
  },
  {
   "cell_type": "code",
   "execution_count": 1,
   "metadata": {},
   "outputs": [
    {
     "name": "stderr",
     "output_type": "stream",
     "text": [
      "C:\\Users\\diego\\AppData\\Local\\Temp\\ipykernel_31956\\1662815981.py:2: DeprecationWarning: \n",
      "Pyarrow will become a required dependency of pandas in the next major release of pandas (pandas 3.0),\n",
      "(to allow more performant data types, such as the Arrow string type, and better interoperability with other libraries)\n",
      "but was not found to be installed on your system.\n",
      "If this would cause problems for you,\n",
      "please provide us feedback at https://github.com/pandas-dev/pandas/issues/54466\n",
      "        \n",
      "  import pandas as pd\n"
     ]
    }
   ],
   "source": [
    "import numpy as np\n",
    "import pandas as pd"
   ]
  },
  {
   "cell_type": "markdown",
   "metadata": {},
   "source": [
    "**Cargar el dataset**"
   ]
  },
  {
   "cell_type": "code",
   "execution_count": 2,
   "metadata": {},
   "outputs": [],
   "source": [
    "full_df = pd.read_csv(\"bank_transactions.csv\",sep=\",\")\n",
    "df = full_df.sample(n=1000, random_state=42)"
   ]
  },
  {
   "cell_type": "markdown",
   "metadata": {},
   "source": [
    "**Estructura y composicion del dataset**"
   ]
  },
  {
   "cell_type": "code",
   "execution_count": 3,
   "metadata": {},
   "outputs": [
    {
     "data": {
      "text/html": [
       "<div>\n",
       "<style scoped>\n",
       "    .dataframe tbody tr th:only-of-type {\n",
       "        vertical-align: middle;\n",
       "    }\n",
       "\n",
       "    .dataframe tbody tr th {\n",
       "        vertical-align: top;\n",
       "    }\n",
       "\n",
       "    .dataframe thead th {\n",
       "        text-align: right;\n",
       "    }\n",
       "</style>\n",
       "<table border=\"1\" class=\"dataframe\">\n",
       "  <thead>\n",
       "    <tr style=\"text-align: right;\">\n",
       "      <th></th>\n",
       "      <th>TransactionID</th>\n",
       "      <th>CustomerID</th>\n",
       "      <th>CustomerDOB</th>\n",
       "      <th>CustGender</th>\n",
       "      <th>CustLocation</th>\n",
       "      <th>CustAccountBalance</th>\n",
       "      <th>TransactionDate</th>\n",
       "      <th>TransactionTime</th>\n",
       "      <th>TransactionAmount (INR)</th>\n",
       "    </tr>\n",
       "  </thead>\n",
       "  <tbody>\n",
       "    <tr>\n",
       "      <th>892845</th>\n",
       "      <td>T892846</td>\n",
       "      <td>C5725279</td>\n",
       "      <td>8/9/84</td>\n",
       "      <td>M</td>\n",
       "      <td>JASPUR</td>\n",
       "      <td>84447.82</td>\n",
       "      <td>7/9/16</td>\n",
       "      <td>183210</td>\n",
       "      <td>11858.0</td>\n",
       "    </tr>\n",
       "    <tr>\n",
       "      <th>444994</th>\n",
       "      <td>T444995</td>\n",
       "      <td>C4588538</td>\n",
       "      <td>2/1/94</td>\n",
       "      <td>M</td>\n",
       "      <td>GURGAON</td>\n",
       "      <td>12549.49</td>\n",
       "      <td>16/8/16</td>\n",
       "      <td>161300</td>\n",
       "      <td>250.0</td>\n",
       "    </tr>\n",
       "    <tr>\n",
       "      <th>614896</th>\n",
       "      <td>T614897</td>\n",
       "      <td>C2416476</td>\n",
       "      <td>14/11/90</td>\n",
       "      <td>M</td>\n",
       "      <td>NEW DELHI</td>\n",
       "      <td>33607.65</td>\n",
       "      <td>26/8/16</td>\n",
       "      <td>102007</td>\n",
       "      <td>3360.0</td>\n",
       "    </tr>\n",
       "    <tr>\n",
       "      <th>457036</th>\n",
       "      <td>T457037</td>\n",
       "      <td>C5940151</td>\n",
       "      <td>15/9/90</td>\n",
       "      <td>M</td>\n",
       "      <td>HYDERABAD</td>\n",
       "      <td>38238.86</td>\n",
       "      <td>21/8/16</td>\n",
       "      <td>110438</td>\n",
       "      <td>250.0</td>\n",
       "    </tr>\n",
       "    <tr>\n",
       "      <th>997441</th>\n",
       "      <td>T997442</td>\n",
       "      <td>C5922989</td>\n",
       "      <td>27/11/88</td>\n",
       "      <td>M</td>\n",
       "      <td>PURBO MEDINIPUR</td>\n",
       "      <td>9506.85</td>\n",
       "      <td>14/9/16</td>\n",
       "      <td>90810</td>\n",
       "      <td>33.0</td>\n",
       "    </tr>\n",
       "  </tbody>\n",
       "</table>\n",
       "</div>"
      ],
      "text/plain": [
       "       TransactionID CustomerID CustomerDOB CustGender     CustLocation  \\\n",
       "892845       T892846   C5725279      8/9/84          M           JASPUR   \n",
       "444994       T444995   C4588538      2/1/94          M          GURGAON   \n",
       "614896       T614897   C2416476    14/11/90          M        NEW DELHI   \n",
       "457036       T457037   C5940151     15/9/90          M        HYDERABAD   \n",
       "997441       T997442   C5922989    27/11/88          M  PURBO MEDINIPUR   \n",
       "\n",
       "        CustAccountBalance TransactionDate  TransactionTime  \\\n",
       "892845            84447.82          7/9/16           183210   \n",
       "444994            12549.49         16/8/16           161300   \n",
       "614896            33607.65         26/8/16           102007   \n",
       "457036            38238.86         21/8/16           110438   \n",
       "997441             9506.85         14/9/16            90810   \n",
       "\n",
       "        TransactionAmount (INR)  \n",
       "892845                  11858.0  \n",
       "444994                    250.0  \n",
       "614896                   3360.0  \n",
       "457036                    250.0  \n",
       "997441                     33.0  "
      ]
     },
     "execution_count": 3,
     "metadata": {},
     "output_type": "execute_result"
    }
   ],
   "source": [
    "df.head()"
   ]
  },
  {
   "cell_type": "code",
   "execution_count": 4,
   "metadata": {},
   "outputs": [
    {
     "data": {
      "text/html": [
       "<div>\n",
       "<style scoped>\n",
       "    .dataframe tbody tr th:only-of-type {\n",
       "        vertical-align: middle;\n",
       "    }\n",
       "\n",
       "    .dataframe tbody tr th {\n",
       "        vertical-align: top;\n",
       "    }\n",
       "\n",
       "    .dataframe thead th {\n",
       "        text-align: right;\n",
       "    }\n",
       "</style>\n",
       "<table border=\"1\" class=\"dataframe\">\n",
       "  <thead>\n",
       "    <tr style=\"text-align: right;\">\n",
       "      <th></th>\n",
       "      <th>TransactionID</th>\n",
       "      <th>CustomerID</th>\n",
       "      <th>CustomerDOB</th>\n",
       "      <th>CustGender</th>\n",
       "      <th>CustLocation</th>\n",
       "      <th>CustAccountBalance</th>\n",
       "      <th>TransactionDate</th>\n",
       "      <th>TransactionTime</th>\n",
       "      <th>TransactionAmount (INR)</th>\n",
       "    </tr>\n",
       "  </thead>\n",
       "  <tbody>\n",
       "    <tr>\n",
       "      <th>687135</th>\n",
       "      <td>T687136</td>\n",
       "      <td>C4420786</td>\n",
       "      <td>27/4/87</td>\n",
       "      <td>M</td>\n",
       "      <td>GURGAON</td>\n",
       "      <td>44152.85</td>\n",
       "      <td>31/8/16</td>\n",
       "      <td>214235</td>\n",
       "      <td>420.0</td>\n",
       "    </tr>\n",
       "    <tr>\n",
       "      <th>641030</th>\n",
       "      <td>T641031</td>\n",
       "      <td>C6142473</td>\n",
       "      <td>1/11/75</td>\n",
       "      <td>M</td>\n",
       "      <td>KOLKATA</td>\n",
       "      <td>10026.44</td>\n",
       "      <td>25/8/16</td>\n",
       "      <td>194834</td>\n",
       "      <td>499.0</td>\n",
       "    </tr>\n",
       "    <tr>\n",
       "      <th>408194</th>\n",
       "      <td>T408195</td>\n",
       "      <td>C5631770</td>\n",
       "      <td>5/12/88</td>\n",
       "      <td>F</td>\n",
       "      <td>AHMEDABAD</td>\n",
       "      <td>21335.25</td>\n",
       "      <td>18/8/16</td>\n",
       "      <td>231859</td>\n",
       "      <td>68.0</td>\n",
       "    </tr>\n",
       "    <tr>\n",
       "      <th>810207</th>\n",
       "      <td>T810208</td>\n",
       "      <td>C8916738</td>\n",
       "      <td>11/11/92</td>\n",
       "      <td>F</td>\n",
       "      <td>DELHI</td>\n",
       "      <td>6688.57</td>\n",
       "      <td>5/9/16</td>\n",
       "      <td>233351</td>\n",
       "      <td>259.0</td>\n",
       "    </tr>\n",
       "    <tr>\n",
       "      <th>341759</th>\n",
       "      <td>T341760</td>\n",
       "      <td>C7714974</td>\n",
       "      <td>1/1/1800</td>\n",
       "      <td>F</td>\n",
       "      <td>BHOPAL</td>\n",
       "      <td>6406304.47</td>\n",
       "      <td>15/8/16</td>\n",
       "      <td>201952</td>\n",
       "      <td>3936.0</td>\n",
       "    </tr>\n",
       "  </tbody>\n",
       "</table>\n",
       "</div>"
      ],
      "text/plain": [
       "       TransactionID CustomerID CustomerDOB CustGender CustLocation  \\\n",
       "687135       T687136   C4420786     27/4/87          M      GURGAON   \n",
       "641030       T641031   C6142473     1/11/75          M      KOLKATA   \n",
       "408194       T408195   C5631770     5/12/88          F    AHMEDABAD   \n",
       "810207       T810208   C8916738    11/11/92          F        DELHI   \n",
       "341759       T341760   C7714974    1/1/1800          F       BHOPAL   \n",
       "\n",
       "        CustAccountBalance TransactionDate  TransactionTime  \\\n",
       "687135            44152.85         31/8/16           214235   \n",
       "641030            10026.44         25/8/16           194834   \n",
       "408194            21335.25         18/8/16           231859   \n",
       "810207             6688.57          5/9/16           233351   \n",
       "341759          6406304.47         15/8/16           201952   \n",
       "\n",
       "        TransactionAmount (INR)  \n",
       "687135                    420.0  \n",
       "641030                    499.0  \n",
       "408194                     68.0  \n",
       "810207                    259.0  \n",
       "341759                   3936.0  "
      ]
     },
     "execution_count": 4,
     "metadata": {},
     "output_type": "execute_result"
    }
   ],
   "source": [
    "df.tail()"
   ]
  },
  {
   "cell_type": "code",
   "execution_count": 5,
   "metadata": {},
   "outputs": [
    {
     "data": {
      "text/plain": [
       "(1000, 9)"
      ]
     },
     "execution_count": 5,
     "metadata": {},
     "output_type": "execute_result"
    }
   ],
   "source": [
    "df.shape"
   ]
  },
  {
   "cell_type": "markdown",
   "metadata": {},
   "source": [
    "**Caracteristicas del dataset**"
   ]
  },
  {
   "cell_type": "code",
   "execution_count": 6,
   "metadata": {},
   "outputs": [
    {
     "name": "stdout",
     "output_type": "stream",
     "text": [
      "<class 'pandas.core.frame.DataFrame'>\n",
      "Index: 1000 entries, 892845 to 341759\n",
      "Data columns (total 9 columns):\n",
      " #   Column                   Non-Null Count  Dtype  \n",
      "---  ------                   --------------  -----  \n",
      " 0   TransactionID            1000 non-null   object \n",
      " 1   CustomerID               1000 non-null   object \n",
      " 2   CustomerDOB              995 non-null    object \n",
      " 3   CustGender               1000 non-null   object \n",
      " 4   CustLocation             1000 non-null   object \n",
      " 5   CustAccountBalance       994 non-null    float64\n",
      " 6   TransactionDate          1000 non-null   object \n",
      " 7   TransactionTime          1000 non-null   int64  \n",
      " 8   TransactionAmount (INR)  1000 non-null   float64\n",
      "dtypes: float64(2), int64(1), object(6)\n",
      "memory usage: 78.1+ KB\n"
     ]
    }
   ],
   "source": [
    "df.info()"
   ]
  },
  {
   "cell_type": "markdown",
   "metadata": {},
   "source": [
    "**Estadisticas descriptivas**"
   ]
  },
  {
   "cell_type": "code",
   "execution_count": 7,
   "metadata": {},
   "outputs": [
    {
     "data": {
      "text/html": [
       "<div>\n",
       "<style scoped>\n",
       "    .dataframe tbody tr th:only-of-type {\n",
       "        vertical-align: middle;\n",
       "    }\n",
       "\n",
       "    .dataframe tbody tr th {\n",
       "        vertical-align: top;\n",
       "    }\n",
       "\n",
       "    .dataframe thead th {\n",
       "        text-align: right;\n",
       "    }\n",
       "</style>\n",
       "<table border=\"1\" class=\"dataframe\">\n",
       "  <thead>\n",
       "    <tr style=\"text-align: right;\">\n",
       "      <th></th>\n",
       "      <th>CustAccountBalance</th>\n",
       "      <th>TransactionTime</th>\n",
       "      <th>TransactionAmount (INR)</th>\n",
       "    </tr>\n",
       "  </thead>\n",
       "  <tbody>\n",
       "    <tr>\n",
       "      <th>count</th>\n",
       "      <td>9.940000e+02</td>\n",
       "      <td>1000.00000</td>\n",
       "      <td>1000.000000</td>\n",
       "    </tr>\n",
       "    <tr>\n",
       "      <th>mean</th>\n",
       "      <td>9.923772e+04</td>\n",
       "      <td>156071.56000</td>\n",
       "      <td>1753.337190</td>\n",
       "    </tr>\n",
       "    <tr>\n",
       "      <th>std</th>\n",
       "      <td>3.941778e+05</td>\n",
       "      <td>52430.20566</td>\n",
       "      <td>5853.874146</td>\n",
       "    </tr>\n",
       "    <tr>\n",
       "      <th>min</th>\n",
       "      <td>0.000000e+00</td>\n",
       "      <td>1.00000</td>\n",
       "      <td>0.000000</td>\n",
       "    </tr>\n",
       "    <tr>\n",
       "      <th>25%</th>\n",
       "      <td>4.944843e+03</td>\n",
       "      <td>123311.25000</td>\n",
       "      <td>169.750000</td>\n",
       "    </tr>\n",
       "    <tr>\n",
       "      <th>50%</th>\n",
       "      <td>1.586093e+04</td>\n",
       "      <td>165135.00000</td>\n",
       "      <td>459.500000</td>\n",
       "    </tr>\n",
       "    <tr>\n",
       "      <th>75%</th>\n",
       "      <td>5.430488e+04</td>\n",
       "      <td>195150.75000</td>\n",
       "      <td>1285.180000</td>\n",
       "    </tr>\n",
       "    <tr>\n",
       "      <th>max</th>\n",
       "      <td>6.406304e+06</td>\n",
       "      <td>235804.00000</td>\n",
       "      <td>107000.040000</td>\n",
       "    </tr>\n",
       "  </tbody>\n",
       "</table>\n",
       "</div>"
      ],
      "text/plain": [
       "       CustAccountBalance  TransactionTime  TransactionAmount (INR)\n",
       "count        9.940000e+02       1000.00000              1000.000000\n",
       "mean         9.923772e+04     156071.56000              1753.337190\n",
       "std          3.941778e+05      52430.20566              5853.874146\n",
       "min          0.000000e+00          1.00000                 0.000000\n",
       "25%          4.944843e+03     123311.25000               169.750000\n",
       "50%          1.586093e+04     165135.00000               459.500000\n",
       "75%          5.430488e+04     195150.75000              1285.180000\n",
       "max          6.406304e+06     235804.00000            107000.040000"
      ]
     },
     "execution_count": 7,
     "metadata": {},
     "output_type": "execute_result"
    }
   ],
   "source": [
    "df.describe()"
   ]
  },
  {
   "cell_type": "markdown",
   "metadata": {},
   "source": [
    "**Conteo de valores unicos en variables categoricas**"
   ]
  },
  {
   "cell_type": "code",
   "execution_count": 8,
   "metadata": {},
   "outputs": [
    {
     "data": {
      "text/plain": [
       "CustGender\n",
       "M    734\n",
       "F    266\n",
       "Name: count, dtype: int64"
      ]
     },
     "execution_count": 8,
     "metadata": {},
     "output_type": "execute_result"
    }
   ],
   "source": [
    "df['CustGender'].value_counts()"
   ]
  },
  {
   "cell_type": "code",
   "execution_count": 9,
   "metadata": {},
   "outputs": [
    {
     "data": {
      "text/plain": [
       "CustLocation\n",
       "MUMBAI       95\n",
       "BANGALORE    89\n",
       "NEW DELHI    84\n",
       "GURGAON      70\n",
       "DELHI        59\n",
       "             ..\n",
       "BHANDARA      1\n",
       "SIRMAUR       1\n",
       "VAPI          1\n",
       "MARGAO        1\n",
       "BATHINDA      1\n",
       "Name: count, Length: 275, dtype: int64"
      ]
     },
     "execution_count": 9,
     "metadata": {},
     "output_type": "execute_result"
    }
   ],
   "source": [
    "df['CustLocation'].value_counts()"
   ]
  },
  {
   "cell_type": "markdown",
   "metadata": {},
   "source": [
    "**Seleccion de Features**"
   ]
  },
  {
   "cell_type": "code",
   "execution_count": 10,
   "metadata": {},
   "outputs": [],
   "source": [
    "features = df.drop(['TransactionID', 'CustomerID','CustomerDOB','TransactionDate'], axis=1)"
   ]
  },
  {
   "cell_type": "markdown",
   "metadata": {},
   "source": [
    "**Busqueda y manejo de valores nulos**"
   ]
  },
  {
   "cell_type": "code",
   "execution_count": 11,
   "metadata": {},
   "outputs": [
    {
     "data": {
      "text/plain": [
       "CustGender                 0\n",
       "CustLocation               0\n",
       "CustAccountBalance         6\n",
       "TransactionTime            0\n",
       "TransactionAmount (INR)    0\n",
       "dtype: int64"
      ]
     },
     "execution_count": 11,
     "metadata": {},
     "output_type": "execute_result"
    }
   ],
   "source": [
    "features.isnull().sum()"
   ]
  },
  {
   "cell_type": "code",
   "execution_count": 12,
   "metadata": {},
   "outputs": [],
   "source": [
    "features = features.dropna()"
   ]
  },
  {
   "cell_type": "markdown",
   "metadata": {},
   "source": [
    "**Encoding de features categoricas**"
   ]
  },
  {
   "cell_type": "code",
   "execution_count": 13,
   "metadata": {},
   "outputs": [],
   "source": [
    "# Encoding para genero\n",
    "features['CustGender'] = features['CustGender'].apply(lambda x: 1 if x == 'F' else 0)\n",
    "\n",
    "# Calcular frecuencia de cada ubicación\n",
    "location_freq = features['CustLocation'].value_counts(normalize=True)\n",
    "\n",
    "# Mapear la frecuencia de cada ubicación al dataset\n",
    "features['CustLocation_FreqEncoded'] = features['CustLocation'].map(location_freq)\n",
    "\n",
    "# Eliminar la columna original de CustLocation si ya no es necesaria\n",
    "features.drop(columns=['CustLocation'], inplace=True)\n",
    "\n",
    "# Rellenar los nulos con 0\n",
    "# features['CustLocation_FreqEncoded'] = features['CustLocation_FreqEncoded'].fillna(0)\n",
    "\n",
    "# Cambiar a nombre original\n",
    "features.rename(columns={\"CustLocation_FreqEncoded\":\"CustLocation\"}, inplace=True)"
   ]
  },
  {
   "cell_type": "markdown",
   "metadata": {},
   "source": [
    "**Verificacion**"
   ]
  },
  {
   "cell_type": "code",
   "execution_count": 14,
   "metadata": {},
   "outputs": [
    {
     "data": {
      "text/plain": [
       "CustGender                 0\n",
       "CustAccountBalance         0\n",
       "TransactionTime            0\n",
       "TransactionAmount (INR)    0\n",
       "CustLocation               0\n",
       "dtype: int64"
      ]
     },
     "execution_count": 14,
     "metadata": {},
     "output_type": "execute_result"
    }
   ],
   "source": [
    "features.isnull().sum()"
   ]
  },
  {
   "cell_type": "code",
   "execution_count": 15,
   "metadata": {},
   "outputs": [
    {
     "data": {
      "text/plain": [
       "CustGender\n",
       "0    730\n",
       "1    264\n",
       "Name: count, dtype: int64"
      ]
     },
     "execution_count": 15,
     "metadata": {},
     "output_type": "execute_result"
    }
   ],
   "source": [
    "features['CustGender'].value_counts()"
   ]
  },
  {
   "cell_type": "code",
   "execution_count": 16,
   "metadata": {},
   "outputs": [
    {
     "data": {
      "text/plain": [
       "CustLocation\n",
       "0.001006    193\n",
       "0.095573     95\n",
       "0.089537     89\n",
       "0.083501     83\n",
       "0.070423     70\n",
       "0.003018     69\n",
       "0.059356     59\n",
       "0.002012     56\n",
       "0.015091     45\n",
       "0.033199     33\n",
       "0.029175     29\n",
       "0.024145     24\n",
       "0.004024     24\n",
       "0.020121     20\n",
       "0.005030     20\n",
       "0.017103     17\n",
       "0.014085     14\n",
       "0.013078     13\n",
       "0.006036     12\n",
       "0.012072     12\n",
       "0.010060     10\n",
       "0.007042      7\n",
       "Name: count, dtype: int64"
      ]
     },
     "execution_count": 16,
     "metadata": {},
     "output_type": "execute_result"
    }
   ],
   "source": [
    "features['CustLocation'].value_counts()"
   ]
  },
  {
   "cell_type": "markdown",
   "metadata": {},
   "source": [
    "**Escalado de features**"
   ]
  },
  {
   "cell_type": "code",
   "execution_count": 17,
   "metadata": {},
   "outputs": [],
   "source": [
    "from sklearn.preprocessing import MinMaxScaler\n",
    "features.drop(columns=['CustLocation'], inplace=True)\n",
    "features.drop(columns=['CustGender'], inplace=True)\n",
    "# features.drop(columns=['TransactionTime'], inplace=True)\n",
    "# features.drop(columns=['TransactionAmount (INR)'], inplace=True)\n",
    "\n",
    "# Seleccionar las features a escalar\n",
    "numeric_features = features.select_dtypes(include=['float64', 'int64'])\n",
    "\n",
    "# Inicializar el objeto StandardScaler\n",
    "scaler = MinMaxScaler()\n",
    "\n",
    "# Escalar las features\n",
    "scaled_features = scaler.fit_transform(numeric_features)\n",
    "\n",
    "# Reemplazar las features originales por las features escaladas\n",
    "features[numeric_features.columns] = scaled_features"
   ]
  },
  {
   "cell_type": "code",
   "execution_count": 18,
   "metadata": {},
   "outputs": [
    {
     "data": {
      "text/html": [
       "<div>\n",
       "<style scoped>\n",
       "    .dataframe tbody tr th:only-of-type {\n",
       "        vertical-align: middle;\n",
       "    }\n",
       "\n",
       "    .dataframe tbody tr th {\n",
       "        vertical-align: top;\n",
       "    }\n",
       "\n",
       "    .dataframe thead th {\n",
       "        text-align: right;\n",
       "    }\n",
       "</style>\n",
       "<table border=\"1\" class=\"dataframe\">\n",
       "  <thead>\n",
       "    <tr style=\"text-align: right;\">\n",
       "      <th></th>\n",
       "      <th>CustAccountBalance</th>\n",
       "      <th>TransactionTime</th>\n",
       "      <th>TransactionAmount (INR)</th>\n",
       "    </tr>\n",
       "  </thead>\n",
       "  <tbody>\n",
       "    <tr>\n",
       "      <th>892845</th>\n",
       "      <td>0.013182</td>\n",
       "      <td>0.776958</td>\n",
       "      <td>0.110822</td>\n",
       "    </tr>\n",
       "    <tr>\n",
       "      <th>444994</th>\n",
       "      <td>0.001959</td>\n",
       "      <td>0.684041</td>\n",
       "      <td>0.002336</td>\n",
       "    </tr>\n",
       "    <tr>\n",
       "      <th>614896</th>\n",
       "      <td>0.005246</td>\n",
       "      <td>0.432590</td>\n",
       "      <td>0.031402</td>\n",
       "    </tr>\n",
       "    <tr>\n",
       "      <th>457036</th>\n",
       "      <td>0.005969</td>\n",
       "      <td>0.468344</td>\n",
       "      <td>0.002336</td>\n",
       "    </tr>\n",
       "    <tr>\n",
       "      <th>997441</th>\n",
       "      <td>0.001484</td>\n",
       "      <td>0.385105</td>\n",
       "      <td>0.000308</td>\n",
       "    </tr>\n",
       "  </tbody>\n",
       "</table>\n",
       "</div>"
      ],
      "text/plain": [
       "        CustAccountBalance  TransactionTime  TransactionAmount (INR)\n",
       "892845            0.013182         0.776958                 0.110822\n",
       "444994            0.001959         0.684041                 0.002336\n",
       "614896            0.005246         0.432590                 0.031402\n",
       "457036            0.005969         0.468344                 0.002336\n",
       "997441            0.001484         0.385105                 0.000308"
      ]
     },
     "execution_count": 18,
     "metadata": {},
     "output_type": "execute_result"
    }
   ],
   "source": [
    "features.head()"
   ]
  },
  {
   "cell_type": "code",
   "execution_count": 19,
   "metadata": {},
   "outputs": [
    {
     "data": {
      "text/html": [
       "<div>\n",
       "<style scoped>\n",
       "    .dataframe tbody tr th:only-of-type {\n",
       "        vertical-align: middle;\n",
       "    }\n",
       "\n",
       "    .dataframe tbody tr th {\n",
       "        vertical-align: top;\n",
       "    }\n",
       "\n",
       "    .dataframe thead th {\n",
       "        text-align: right;\n",
       "    }\n",
       "</style>\n",
       "<table border=\"1\" class=\"dataframe\">\n",
       "  <thead>\n",
       "    <tr style=\"text-align: right;\">\n",
       "      <th></th>\n",
       "      <th>CustAccountBalance</th>\n",
       "      <th>TransactionTime</th>\n",
       "      <th>TransactionAmount (INR)</th>\n",
       "    </tr>\n",
       "  </thead>\n",
       "  <tbody>\n",
       "    <tr>\n",
       "      <th>687135</th>\n",
       "      <td>0.006892</td>\n",
       "      <td>0.908530</td>\n",
       "      <td>0.003925</td>\n",
       "    </tr>\n",
       "    <tr>\n",
       "      <th>641030</th>\n",
       "      <td>0.001565</td>\n",
       "      <td>0.826253</td>\n",
       "      <td>0.004664</td>\n",
       "    </tr>\n",
       "    <tr>\n",
       "      <th>408194</th>\n",
       "      <td>0.003330</td>\n",
       "      <td>0.983270</td>\n",
       "      <td>0.000636</td>\n",
       "    </tr>\n",
       "    <tr>\n",
       "      <th>810207</th>\n",
       "      <td>0.001044</td>\n",
       "      <td>0.989597</td>\n",
       "      <td>0.002421</td>\n",
       "    </tr>\n",
       "    <tr>\n",
       "      <th>341759</th>\n",
       "      <td>1.000000</td>\n",
       "      <td>0.856439</td>\n",
       "      <td>0.036785</td>\n",
       "    </tr>\n",
       "  </tbody>\n",
       "</table>\n",
       "</div>"
      ],
      "text/plain": [
       "        CustAccountBalance  TransactionTime  TransactionAmount (INR)\n",
       "687135            0.006892         0.908530                 0.003925\n",
       "641030            0.001565         0.826253                 0.004664\n",
       "408194            0.003330         0.983270                 0.000636\n",
       "810207            0.001044         0.989597                 0.002421\n",
       "341759            1.000000         0.856439                 0.036785"
      ]
     },
     "execution_count": 19,
     "metadata": {},
     "output_type": "execute_result"
    }
   ],
   "source": [
    "features.tail()"
   ]
  },
  {
   "cell_type": "markdown",
   "metadata": {},
   "source": [
    "## Gaussian Mixture Model"
   ]
  },
  {
   "cell_type": "code",
   "execution_count": 20,
   "metadata": {},
   "outputs": [],
   "source": [
    "features_np = features.to_numpy()"
   ]
  },
  {
   "cell_type": "markdown",
   "metadata": {},
   "source": [
    "**Version cutre**"
   ]
  },
  {
   "cell_type": "code",
   "execution_count": 21,
   "metadata": {},
   "outputs": [],
   "source": [
    "import numpy as np\n",
    "\n",
    "class GMM:\n",
    "    def __init__(self, n_components, max_iter=100, comp_names=None):\n",
    "        self.n_componets = n_components\n",
    "        self.max_iter = max_iter\n",
    "        self.comp_names = [f\"{index}\" for index in range(self.n_componets)] if comp_names is None else comp_names\n",
    "        self.pi = [1 / self.n_componets for _ in range(self.n_componets)]\n",
    "\n",
    "    def multivariate_normal(self, X, mean_vector, covariance_matrix):\n",
    "        return (2 * np.pi) ** (-len(X) / 2) * np.linalg.det(covariance_matrix) ** (-1 / 2) * np.exp(-np.dot(np.dot((X - mean_vector).T, np.linalg.inv(covariance_matrix)), (X - mean_vector)) / 2)\n",
    "\n",
    "    def fit(self, X):\n",
    "        new_X = np.array_split(X, self.n_componets)\n",
    "        self.mean_vector = [np.mean(x, axis=0) for x in new_X]\n",
    "        self.covariance_matrixes = [np.cov(x.T) + np.eye(x.shape[1]) * 1e-6 for x in new_X]\n",
    "        del new_X\n",
    "        \n",
    "        for _ in range(self.max_iter):\n",
    "            self.r = np.zeros((len(X), self.n_componets))\n",
    "            for n in range(len(X)):\n",
    "                for k in range(self.n_componets):\n",
    "                    prob = self.pi[k] * self.multivariate_normal(X[n], self.mean_vector[k], self.covariance_matrixes[k])\n",
    "                    self.r[n][k] = prob / (sum([self.pi[j] * self.multivariate_normal(X[n], self.mean_vector[j], self.covariance_matrixes[j]) for j in range(self.n_componets)]) + 1e-9)\n",
    "            \n",
    "            N = np.sum(self.r, axis=0)\n",
    "            \n",
    "            self.mean_vector = np.zeros((self.n_componets, len(X[0])))\n",
    "            for k in range(self.n_componets):\n",
    "                for n in range(len(X)):\n",
    "                    self.mean_vector[k] += self.r[n][k] * X[n]\n",
    "                self.mean_vector[k] = 1 / N[k] * self.mean_vector[k]\n",
    "            \n",
    "            self.covariance_matrixes = [np.zeros((len(X[0]), len(X[0]))) for k in range(self.n_componets)]\n",
    "            for k in range(self.n_componets):\n",
    "                self.covariance_matrixes[k] = np.cov(X.T, aweights=(self.r[:, k]), ddof=0) + np.eye(len(X[0])) * 1e-6\n",
    "                self.covariance_matrixes[k] = 1 / N[k] * self.covariance_matrixes[k]\n",
    "            \n",
    "            self.pi = [N[k] / len(X) for k in range(self.n_componets)]\n",
    "\n",
    "    def predict(self, X):\n",
    "        probas = []\n",
    "        for n in range(len(X)):\n",
    "            probas.append([self.multivariate_normal(X[n], self.mean_vector[k], self.covariance_matrixes[k]) for k in range(self.n_componets)])\n",
    "        cluster = []\n",
    "        for proba in probas:\n",
    "            cluster.append(self.comp_names[proba.index(max(proba))])\n",
    "        return cluster\n"
   ]
  },
  {
   "cell_type": "code",
   "execution_count": 22,
   "metadata": {},
   "outputs": [],
   "source": [
    "# Asumiendo que X es tu array de NumPy con los datos preprocesados\n",
    "\n",
    "# Paso 2: Inicializar el modelo GMM\n",
    "n_components = 3  # Elige el número de clusters deseado\n",
    "gmm = GMM(n_components=n_components)\n",
    "\n",
    "# Paso 3: Entrenar el modelo con tus datos\n",
    "gmm.fit(features_np)\n",
    "\n",
    "# Paso 4: Asignar clusters a los datos\n",
    "clusters = gmm.predict(features_np)"
   ]
  },
  {
   "cell_type": "code",
   "execution_count": 23,
   "metadata": {},
   "outputs": [],
   "source": [
    "from sklearn.decomposition import PCA\n",
    "\n",
    "# Asumiendo que X es tu conjunto de datos original\n",
    "\n",
    "# Inicializa PCA para reducir a 2 dimensiones\n",
    "pca = PCA(n_components = 2)\n",
    "\n",
    "# Ajusta PCA a los datos y transforma los datos a 2D\n",
    "X_2d = pca.fit_transform(features_np)\n"
   ]
  },
  {
   "cell_type": "code",
   "execution_count": 24,
   "metadata": {},
   "outputs": [
    {
     "data": {
      "image/png": "[encoded data removed]",
      "text/plain": [
       "<Figure size 1000x700 with 1 Axes>"
      ]
     },
     "metadata": {},
     "output_type": "display_data"
    }
   ],
   "source": [
    "import matplotlib.pyplot as plt\n",
    "import numpy as np\n",
    "\n",
    "# Asumiendo que 'clusters' contiene las etiquetas de cluster devueltas por tu modelo GMM\n",
    "\n",
    "# Convierte las etiquetas de cluster en un array de NumPy para facilitar el manejo\n",
    "cluster_labels = np.array(clusters)\n",
    "\n",
    "# Extrae las dos componentes principales para graficar\n",
    "feature_1 = X_2d[:, 0]  # Primera componente principal\n",
    "feature_2 = X_2d[:, 1]  # Segunda componente principal\n",
    "\n",
    "# Crea una figura y un eje para el gráfico\n",
    "plt.figure(figsize=(10, 7))\n",
    "\n",
    "# Grafica cada cluster con un color diferente\n",
    "for cluster in np.unique(cluster_labels):\n",
    "    plt.scatter(feature_1[cluster_labels == cluster], feature_2[cluster_labels == cluster], label=f'Cluster {cluster}', s=50)\n",
    "\n",
    "# Títulos y etiquetas\n",
    "plt.title('Clusters tras PCA')\n",
    "plt.xlabel('Componente Principal 1')\n",
    "plt.ylabel('Componente Principal 2')\n",
    "\n",
    "# Leyenda\n",
    "plt.legend()\n",
    "\n",
    "# Muestra el gráfico\n",
    "plt.show()\n"
   ]
  }
 ],
 "metadata": {
  "kernelspec": {
   "display_name": "Python 3",
   "language": "python",
   "name": "python3"
  },
  "language_info": {
   "codemirror_mode": {
    "name": "ipython",
    "version": 3
   },
   "file_extension": ".py",
   "mimetype": "text/x-python",
   "name": "python",
   "nbconvert_exporter": "python",
   "pygments_lexer": "ipython3",
   "version": "3.11.6"
  }
 },
 "nbformat": 4,
 "nbformat_minor": 2
}
